{
 "cells": [
  {
   "cell_type": "raw",
   "id": "ed0d0ca4",
   "metadata": {},
   "source": [
    "1.What are the two values of the Boolean data type? How do you write them?\n",
    "\n",
    "Ans1. the two values of the Boolean data type are True and False.\n",
    "       a = True\n",
    "       b = False\n"
   ]
  },
  {
   "cell_type": "raw",
   "id": "bf6ac1dd",
   "metadata": {},
   "source": [
    "2. What are the three different types of Boolean operators?\n",
    "\n",
    "Ans2. The three basic boolean operators are: AND, OR, and NOT"
   ]
  },
  {
   "cell_type": "raw",
   "id": "9267f981",
   "metadata": {},
   "source": [
    "3. Make a list of each Boolean operator's truth tables (i.e. every possible combination of Boolean values for the operator and      what it evaluate ).\n",
    "Ans. a) AND-  P\t      Q\t   P AND Q\n",
    "            TRUE\tTRUE\tTRUE\n",
    "            TRUE\tFALSE\tFALSE\n",
    "            FALSE\tTRUE\tFALSE\n",
    "            FALSE\tFALSE\tFALSE\n",
    "            \n",
    "       OR-  P\t      Q\t   P AND Q\n",
    "            TRUE\tTRUE\tTRUE\n",
    "            TRUE\tFALSE\tTRUE\n",
    "            FALSE\tTRUE\tTRUE\n",
    "            FALSE\tFALSE\tFALSE\n",
    "            \n",
    "       NOT-  P\t    NOT p\t   \n",
    "            FALSE\tTRUE\n",
    "            TRUE\tFALSE"
   ]
  },
  {
   "cell_type": "raw",
   "id": "edcc1f87",
   "metadata": {},
   "source": [
    "4. What are the values of the following expressions?\n",
    "(5 > 4) and (3 == 5)\n",
    "not (5 > 4)\n",
    "(5 > 4) or (3 == 5)\n",
    "not ((5 > 4) or (3 == 5))\n",
    "(True and True) and (True == False)\n",
    "(not False) or (not True)\n",
    "\n",
    "Ans4. (5 > 4) and (3 == 5)  False\n",
    "     not (5 > 4)  False\n",
    "     (5 > 4) or (3 == 5) True\n",
    "     not ((5 > 4) or (3 == 5)) False\n",
    "     (True and True) and (True == False) False\n",
    "     (not False) or (not True)  True\n",
    "     \n",
    "     \n",
    "     "
   ]
  },
  {
   "cell_type": "raw",
   "id": "bb1f9f26",
   "metadata": {},
   "source": [
    "5. What are the six comparison operators?\n",
    "Ans5. less than- <\n",
    "      greater than-  >\n",
    "      less than or equal to - <=\n",
    "      greater than or equal to - >=\n",
    "      equal to- ==\n",
    "      not equal ton- !=\n"
   ]
  },
  {
   "cell_type": "raw",
   "id": "6e1fed95",
   "metadata": {},
   "source": [
    "6. How do you tell the difference between the equal to and assignment operators?Describe a condition and when you would use one.\n",
    "Ans 6. Assignment operator is used to assign the values to the variable.eg x=5\n",
    "       Equal to operator is used for comparison ,weather two given operands are equal or not. eg. x==5,in this examle it will          check weather x is equal to 5 or not.\n",
    "       eg is given below:-\n",
    "     \n"
   ]
  },
  {
   "cell_type": "code",
   "execution_count": 9,
   "id": "de8218e8",
   "metadata": {},
   "outputs": [
    {
     "name": "stdout",
     "output_type": "stream",
     "text": [
      "True\n"
     ]
    }
   ],
   "source": [
    "x=5\n",
    "if x==5:\n",
    "    print(True)"
   ]
  },
  {
   "cell_type": "raw",
   "id": "30b75cc8",
   "metadata": {},
   "source": [
    "7. Identify the three blocks in this code:\n",
    "spam = 0\n",
    "if spam == 10:\n",
    "    print('eggs')        \n",
    "    if spam > 5:         \n",
    "        print('bacon')   \n",
    "    else:                \n",
    "        print('ham')     \n",
    "    print('spam')        \n",
    "print('spam')            \n",
    "\n",
    "Ans7. A new block begins every time you increase the indentation of a line, and ends just before the corresponding unindent.\n",
    "spam = 0\n",
    "if spam == 10:\n",
    "    print('eggs')        # indent increased, block A\n",
    "    if spam > 5:         # still block A\n",
    "        print('bacon')   # still block A, indent increased, block B inside block A\n",
    "    else:                # still block A, indent decreased, block B ended in line above\n",
    "        print('ham')     # still block A, indent increased, block C inside block A\n",
    "    print('spam')        # still block A, indent decreased, block C ended in line above\n",
    "print('spam')            # indent decreased, block A ended in line above\n"
   ]
  },
  {
   "cell_type": "raw",
   "id": "74de0384",
   "metadata": {},
   "source": [
    "8. Write code that prints Hello if 1 is stored in spam, prints Howdy if 2 is stored in spam, and prints Greetings! if anything else is stored in spam.\n",
    "\n",
    "Ans 8..   Below\n",
    "\n"
   ]
  },
  {
   "cell_type": "code",
   "execution_count": 1,
   "id": "f5f941f8",
   "metadata": {},
   "outputs": [
    {
     "name": "stdout",
     "output_type": "stream",
     "text": [
      "print the no : 5\n",
      "Greetings!\n"
     ]
    }
   ],
   "source": [
    "spam = int(input(\"print the no : \"))\n",
    "\n",
    "if spam == 1:\n",
    "    print('Hello')\n",
    "elif spam == 2:\n",
    "    print('Howdy')\n",
    "else:\n",
    "    print('Greetings!')"
   ]
  },
  {
   "cell_type": "raw",
   "id": "38af7ef2",
   "metadata": {},
   "source": [
    "9.If your programme is stuck in an endless loop, what keys you’ll press?\n",
    "\n",
    "Ans 9. ctrl + c is used to kill a process. It terminates your program. ctrl + z is used to pause the process.\n",
    "       \n"
   ]
  },
  {
   "cell_type": "raw",
   "id": "54d521a8",
   "metadata": {},
   "source": [
    "10. How can you tell the difference between break and continue?\n",
    "\n",
    "Ans. Break  eliminates the execution of remaining iteration of loop, break will resume control of program to the end of              loop enclosing that break.\n",
    "     Continue will terminate only the current iteration of loop,The continue will resume the control of the program to next          iteration of that loop enclosing continue.\n",
    "     eg. are given below"
   ]
  },
  {
   "cell_type": "code",
   "execution_count": 4,
   "id": "7f79ef2c",
   "metadata": {},
   "outputs": [
    {
     "name": "stdout",
     "output_type": "stream",
     "text": [
      "Java\n",
      "Python\n",
      "SQL\n",
      "Found SQL\n",
      "Loop is Terminated\n"
     ]
    }
   ],
   "source": [
    "my_list = ['Java', 'Python', 'SQL', 'MongoDB', 'C', 'C++'] \n",
    "\n",
    "for i in range(len(my_list)):\n",
    "    print(my_list[i])\n",
    "    if my_list[i] == 'SQL':\n",
    "        print('Found SQL')\n",
    "        break\n",
    "        print('After break statement')\n",
    "\n",
    "print('Loop is Terminated')"
   ]
  },
  {
   "cell_type": "code",
   "execution_count": 5,
   "id": "590d55e3",
   "metadata": {},
   "outputs": [
    {
     "name": "stdout",
     "output_type": "stream",
     "text": [
      "The Number is : 0\n",
      "The Number is : 1\n",
      "The Number is : 2\n",
      "The Number is : 3\n",
      "The Number is : 4\n",
      "The Number is : 6\n",
      "The Number is : 7\n",
      "The Number is : 8\n",
      "The Number is : 9\n"
     ]
    }
   ],
   "source": [
    "for i in range(10):    \n",
    "    if i == 5:\n",
    "        continue  \n",
    "    print(\"The Number is :\" , i)"
   ]
  },
  {
   "cell_type": "raw",
   "id": "beaef8b0",
   "metadata": {},
   "source": [
    "11.    In a for loop, what is the difference between range(10), range(0, 10), and range(0, 10, 1)?\n",
    "\n",
    "Ans11. All the three will give same output, the difference is of the output.\n",
    "       range(10) ( range (stop) )takes one argumentm - will get a series of numbers that starts at 0 and includes every whole          number up to, but not including,10.\n",
    "       range(0, 10) (range (start, stop) )takes two arguments- Here also will get a series of numbers that starts at 0 and              includes every whole number up to, but not including,10.\n",
    "       range(0, 10, 1) (range (start, stop, step)) takes three arguments - Here also will get a series of numbers that starts at        0 and includes every whole number up to, but not including,10.\n",
    "       \n",
    "       egs are given below:-\n"
   ]
  },
  {
   "cell_type": "code",
   "execution_count": 9,
   "id": "196b62c2",
   "metadata": {},
   "outputs": [
    {
     "name": "stdout",
     "output_type": "stream",
     "text": [
      "0 1 2 3 4 5 6 7 8 9 "
     ]
    }
   ],
   "source": [
    "for i in range(10):\n",
    "    print(i, end=\" \")\n"
   ]
  },
  {
   "cell_type": "code",
   "execution_count": 8,
   "id": "8d82f35a",
   "metadata": {},
   "outputs": [
    {
     "name": "stdout",
     "output_type": "stream",
     "text": [
      "0 1 2 3 4 5 6 7 8 9 "
     ]
    }
   ],
   "source": [
    "for i in range(0, 10):\n",
    "    print(i, end=\" \")"
   ]
  },
  {
   "cell_type": "code",
   "execution_count": 10,
   "id": "471981c2",
   "metadata": {},
   "outputs": [
    {
     "name": "stdout",
     "output_type": "stream",
     "text": [
      "0 1 2 3 4 5 6 7 8 9 "
     ]
    }
   ],
   "source": [
    "for i in range(0, 10, 1):\n",
    "    print(i, end=\" \")"
   ]
  },
  {
   "cell_type": "raw",
   "id": "788ca7e1",
   "metadata": {},
   "source": [
    "12. Write a short program that prints the numbers 1 to 10 using a for loop. Then write an equivalent program that prints the         numbers 1 to 10 using a while loop.\n"
   ]
  },
  {
   "cell_type": "code",
   "execution_count": 12,
   "id": "2dfc921e",
   "metadata": {},
   "outputs": [
    {
     "name": "stdout",
     "output_type": "stream",
     "text": [
      "1 2 3 4 5 6 7 8 9 10 "
     ]
    }
   ],
   "source": [
    "for i in range(1,11):\n",
    "    print(i, end=\" \")"
   ]
  },
  {
   "cell_type": "code",
   "execution_count": 16,
   "id": "e6c5f4be",
   "metadata": {},
   "outputs": [
    {
     "name": "stdout",
     "output_type": "stream",
     "text": [
      "0 1 2 3 4 5 6 7 8 9 10 "
     ]
    }
   ],
   "source": [
    "count = 0\n",
    "while (count < 11):\n",
    "    print(count , end=\" \")\n",
    "    count = count + 1"
   ]
  },
  {
   "cell_type": "raw",
   "id": "df82c66d",
   "metadata": {},
   "source": [
    "13. If you had a function named bacon() inside a module named spam, how would you call it after importing spam?\n",
    "\n",
    "Ans.13 This function can be called with spam.bacon()\n"
   ]
  },
  {
   "cell_type": "raw",
   "id": "61c0f64d",
   "metadata": {},
   "source": []
  }
 ],
 "metadata": {
  "kernelspec": {
   "display_name": "Python 3.9.12 ('base')",
   "language": "python",
   "name": "python3"
  },
  "language_info": {
   "codemirror_mode": {
    "name": "ipython",
    "version": 3
   },
   "file_extension": ".py",
   "mimetype": "text/x-python",
   "name": "python",
   "nbconvert_exporter": "python",
   "pygments_lexer": "ipython3",
   "version": "3.9.12"
  },
  "vscode": {
   "interpreter": {
    "hash": "835930cdab659cfe0998f909845533c8bce739076c1411aa039e952001a7acf8"
   }
  }
 },
 "nbformat": 4,
 "nbformat_minor": 5
}
