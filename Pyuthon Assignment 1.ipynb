{
 "cells": [
  {
   "cell_type": "raw",
   "id": "b003596a",
   "metadata": {},
   "source": [
    "1. In the below elements which of them are values or an expression? eg:- values can be integer or string and expressions will be mathematical operators.\n",
    "* \n",
    "'hello'\n",
    "-87.8\n",
    "- \n",
    "/ \n",
    "+\t\n",
    "6 \n",
    "\n",
    "\n",
    "Ans 1.  *    = expression\n",
    "        'hello'= Value\n",
    "        -87.8  = Value\n",
    "        -      = expression   \n",
    "        /      = expression   \n",
    "        +\t   = expression\n",
    "        6      = Value"
   ]
  },
  {
   "cell_type": "raw",
   "id": "73244bc0",
   "metadata": {},
   "source": [
    "Q2.    What is the difference between string and variable?\n",
    "\n",
    "Ans2.  A variable is used to store a data or information in a program where as a string in a information that is stored in a            variable"
   ]
  },
  {
   "cell_type": "raw",
   "id": "43f6d40c",
   "metadata": {},
   "source": [
    "Q3. Describe three different data types.\n",
    "\n",
    "Ans. 1.Numeric Datatype-  Numeric data type in Pytjon represent the data which has numeric value.Numeric value can be integer,          floating number or even complex numbers. These values are defined as int, float and complex class in Python.\n",
    "\n",
    "     a) int-It contains positive or negative whole numbers (without any fraction or decimal no) eg-a= 2,34, b=2889 etc\n",
    "     b) float- It contains decimals. eg. a=2.45,b=7.98 etc\n",
    "     c) complex-It contains complex nos(Have real + imaginary part).\n",
    "     \n",
    "     2.Sequence DataTypes-sequence is the ordered collection of similar or different data types. Sequences allows to store              multiple values in an organized and efficient way\n",
    "     \n",
    "     a) Sring-The string can be defined as the sequence of characters represented in the quotation marks. In Python, we can use         single, double, or triple quotes to define a string.eg- a=\"Python\",b= \"1\",c='1.8'.\n",
    "     b) List- List is a ordered collection of data.The items stored in the list are separated with a comma (,) and enclosed             within square brackets [].eg- list1  = [12, \"hi\", \"Python\", 2].\n",
    "     c) Tuple -  tuples also contain the collection of the items of different data types. The items of the tuple are separated           with a comma (,) and enclosed in parentheses ().We can't modify the size and value of the items of a tuple. \n",
    "        eg-  tp  = (\"hi\", \"Python\", 12)  \n",
    "        \n",
    "      3)Boolean-Boolean has the two built-in values, True or False. True can be represented by any non-zero value or 'T' whereas         false can be represented by the 0 or 'F'.\n",
    "      eg - a=True\n",
    "           b=False\n",
    "             \n",
    "     \n"
   ]
  },
  {
   "cell_type": "raw",
   "id": "8c1a66c1",
   "metadata": {},
   "source": [
    "4. What is an expression made up of? What do all expressions do?\n",
    "\n",
    "Ans4. An expression is a combination of operators and operands that is interpreted to produce some other value.\n",
    "      1. Constant Expressions: These are the expressions that have constant values only.\n",
    "      2. Arithmetic Expressions: An arithmetic expression is a combination of numeric values, operators, and sometimes                    parenthesis. The result of this type of expression is also a numeric value. The operators used in these expressions are          arithmetic operators like addition, subtraction, etc. \n",
    "      3. Integral Expressions: These are the kind of expressions that produce only integer results after all computations and            type conversions.\n",
    "      4. Floating Expressions: These are the kind of expressions which produce floating point numbers as result after all                computations and type conversions.\n",
    "      5. Relational Expressions: In these types of expressions, arithmetic expressions are written on both sides of relational            operator (> , < , >= , <=). Those arithmetic expressions are evaluated first, and then compared as per relational                operator and produce a boolean output in the end. These expressions are also called Boolean expressions.\n",
    "      6. Logical Expressions: These are kinds of expressions that result in either True or False. It basically specifies one or          more conditions. For example, (10 == 9) is a condition if 10 is equal to 9. As we know it is not correct, so it will            return False.\n",
    "      7. Combinational Expressions: We can also use different types of expressions in a single expression, and that will be              termed as combinational expressions.\n",
    "       \n",
    "      \n",
    "      \n",
    "      "
   ]
  },
  {
   "cell_type": "raw",
   "id": "9a6242c0",
   "metadata": {},
   "source": [
    "5. This assignment statements, like spam = 10. What is the difference between an expression and a statement?\n",
    "\n",
    "Ans5. A statement is an instruction that the Python interpreter can execute whereas An expression is a combination of operators       and operands that is interpreted to produce some other value\n"
   ]
  },
  {
   "cell_type": "raw",
   "id": "f6750196",
   "metadata": {},
   "source": [
    "6. After running the following code, what does the variable bacon contain?\n",
    "   bacon = 22\n",
    "   bacon + 1\n",
    "   \n",
    "Ans. 23\n"
   ]
  },
  {
   "cell_type": "code",
   "execution_count": 5,
   "id": "31b2d9ed",
   "metadata": {},
   "outputs": [
    {
     "data": {
      "text/plain": [
       "23"
      ]
     },
     "execution_count": 5,
     "metadata": {},
     "output_type": "execute_result"
    }
   ],
   "source": [
    "  bacon = 22 \n",
    "  bacon + 1"
   ]
  },
  {
   "cell_type": "raw",
   "id": "1ea61f8d",
   "metadata": {},
   "source": [
    "7. What should the values of the following two terms be?\n",
    "\n",
    "   'spam' + 'spamspam'\n",
    "   'spam' * 3\n",
    "\n",
    "\n",
    "Ans- 'spam' + 'spamspam' = 'spamspamspam'\n",
    "\n",
    "     'spam' * 3    =   'spamspamspam'\n",
    "\n"
   ]
  },
  {
   "cell_type": "code",
   "execution_count": 7,
   "id": "bb92313a",
   "metadata": {},
   "outputs": [
    {
     "data": {
      "text/plain": [
       "'spamspamspam'"
      ]
     },
     "execution_count": 7,
     "metadata": {},
     "output_type": "execute_result"
    }
   ],
   "source": [
    "'spam' + 'spamspam'\n",
    "\n"
   ]
  },
  {
   "cell_type": "code",
   "execution_count": 8,
   "id": "f94f3389",
   "metadata": {},
   "outputs": [
    {
     "data": {
      "text/plain": [
       "'spamspamspam'"
      ]
     },
     "execution_count": 8,
     "metadata": {},
     "output_type": "execute_result"
    }
   ],
   "source": [
    "'spam' * 3"
   ]
  },
  {
   "cell_type": "raw",
   "id": "b8694e85",
   "metadata": {},
   "source": [
    "8. Why is eggs a valid variable name while 100 is invalid?\n",
    "\n",
    "Ans-  A variable can contain numerical value but should not start with a numerical value ,thats why variable name 100 is              invalid, while a variable name can start with an alphabet which does not have any special character, thats why eggs is          valid variable name\n",
    "\n",
    "      \n",
    "      "
   ]
  },
  {
   "cell_type": "raw",
   "id": "73d078bc",
   "metadata": {},
   "source": [
    "9. What three functions can be used to get the integer, floating-point number, or string version of a value?\n",
    "\n",
    "Ans. int(), float() and str() can be used to get the integer, floating-point number, or string version of a value."
   ]
  },
  {
   "cell_type": "raw",
   "id": "43a23c79",
   "metadata": {},
   "source": [
    "10. Why does this expression cause an error? How can you fix it?\n",
    "    'I have eaten ' + str(99) + ' burritos.'\n",
    "    \n",
    "Ans. We can not concatenate a string and integer together\n",
    "     To concatenate them we have to change the type integer to String.\n",
    "     'I have eaten ' +str(99 ) + ' burritos.'\n",
    "     \n"
   ]
  },
  {
   "cell_type": "code",
   "execution_count": 10,
   "id": "e19480a2",
   "metadata": {},
   "outputs": [
    {
     "data": {
      "text/plain": [
       "'I have eaten 99 burritos.'"
      ]
     },
     "execution_count": 10,
     "metadata": {},
     "output_type": "execute_result"
    }
   ],
   "source": [
    " 'I have eaten ' +str(99 ) + ' burritos.'"
   ]
  },
  {
   "cell_type": "code",
   "execution_count": null,
   "id": "979bc14e",
   "metadata": {},
   "outputs": [],
   "source": []
  }
 ],
 "metadata": {
  "kernelspec": {
   "display_name": "Python 3 (ipykernel)",
   "language": "python",
   "name": "python3"
  },
  "language_info": {
   "codemirror_mode": {
    "name": "ipython",
    "version": 3
   },
   "file_extension": ".py",
   "mimetype": "text/x-python",
   "name": "python",
   "nbconvert_exporter": "python",
   "pygments_lexer": "ipython3",
   "version": "3.9.12"
  }
 },
 "nbformat": 4,
 "nbformat_minor": 5
}
